{
 "cells": [
  {
   "cell_type": "markdown",
   "metadata": {},
   "source": [
    "# Assignment 8: Spatial data and Magic: The gathering"
   ]
  },
  {
   "cell_type": "code",
   "execution_count": 2,
   "metadata": {},
   "outputs": [
    {
     "name": "stdout",
     "output_type": "stream",
     "text": [
      "The sql extension is already loaded. To reload it, use:\n",
      "  %reload_ext sql\n"
     ]
    },
    {
     "data": {
      "text/plain": [
       "'Connected: appdev@appdev'"
      ]
     },
     "execution_count": 2,
     "metadata": {},
     "output_type": "execute_result"
    }
   ],
   "source": [
    "%load_ext sql\n",
    "%sql postgresql://appdev@data:5432/appdev"
   ]
  },
  {
   "cell_type": "markdown",
   "metadata": {},
   "source": [
    "## In the first part you'll be processing the data in the geonames table."
   ]
  },
  {
   "cell_type": "markdown",
   "metadata": {},
   "source": [
    "### A. Find the tuple with the largest population"
   ]
  },
  {
   "cell_type": "code",
   "execution_count": 58,
   "metadata": {},
   "outputs": [
    {
     "name": "stdout",
     "output_type": "stream",
     "text": [
      "Done.\n",
      "Done.\n",
      "1 rows affected.\n"
     ]
    },
    {
     "data": {
      "text/html": [
       "<table>\n",
       "    <tr>\n",
       "        <th>geonameid</th>\n",
       "        <th>name</th>\n",
       "        <th>longitude</th>\n",
       "        <th>latitude</th>\n",
       "        <th>feature_class</th>\n",
       "        <th>feature_code</th>\n",
       "        <th>country_code</th>\n",
       "        <th>admin1_code</th>\n",
       "        <th>admin2_code</th>\n",
       "        <th>population</th>\n",
       "        <th>elevation</th>\n",
       "        <th>timezone</th>\n",
       "    </tr>\n",
       "    <tr>\n",
       "        <td>305104</td>\n",
       "        <td>Levant</td>\n",
       "        <td>36.0</td>\n",
       "        <td>34.0</td>\n",
       "        <td>L</td>\n",
       "        <td>RGN</td>\n",
       "        <td>None</td>\n",
       "        <td>None</td>\n",
       "        <td>None</td>\n",
       "        <td>44990000</td>\n",
       "        <td>None</td>\n",
       "        <td>Asia/Beirut</td>\n",
       "    </tr>\n",
       "</table>"
      ],
      "text/plain": [
       "[(305104, 'Levant', 36.0, 34.0, 'L', 'RGN', None, None, None, 44990000, None, 'Asia/Beirut')]"
      ]
     },
     "execution_count": 58,
     "metadata": {},
     "output_type": "execute_result"
    }
   ],
   "source": [
    "%%sql \n",
    "DROP VIEW IF EXISTS max_pop;\n",
    "CREATE VIEW max_pop AS\n",
    "SELECT * FROM geonames ORDER BY population DESC LIMIT 1;\n",
    "\n",
    "SELECT * FROM max_pop;"
   ]
  },
  {
   "cell_type": "markdown",
   "metadata": {},
   "source": [
    "### B. Now calculate the distance from all locations to the tuple above using the <-> function"
   ]
  },
  {
   "cell_type": "code",
   "execution_count": 10,
   "metadata": {},
   "outputs": [
    {
     "name": "stdout",
     "output_type": "stream",
     "text": [
      "Done.\n"
     ]
    },
    {
     "data": {
      "text/plain": [
       "[]"
      ]
     },
     "execution_count": 10,
     "metadata": {},
     "output_type": "execute_result"
    }
   ],
   "source": [
    "%sql CREATE INDEX location ON geonames USING GIST (longitude, latitude);"
   ]
  },
  {
   "cell_type": "code",
   "execution_count": 38,
   "metadata": {},
   "outputs": [
    {
     "name": "stdout",
     "output_type": "stream",
     "text": [
      "50 rows affected.\n"
     ]
    },
    {
     "data": {
      "text/html": [
       "<table>\n",
       "    <tr>\n",
       "        <th>distance</th>\n",
       "    </tr>\n",
       "    <tr>\n",
       "        <td>35.5187260391022</td>\n",
       "    </tr>\n",
       "    <tr>\n",
       "        <td>35.5403912827645</td>\n",
       "    </tr>\n",
       "    <tr>\n",
       "        <td>35.4976906065648</td>\n",
       "    </tr>\n",
       "    <tr>\n",
       "        <td>35.5211340049413</td>\n",
       "    </tr>\n",
       "    <tr>\n",
       "        <td>35.5230848613757</td>\n",
       "    </tr>\n",
       "    <tr>\n",
       "        <td>35.5756544866359</td>\n",
       "    </tr>\n",
       "    <tr>\n",
       "        <td>35.3803392045427</td>\n",
       "    </tr>\n",
       "    <tr>\n",
       "        <td>35.5686877257961</td>\n",
       "    </tr>\n",
       "    <tr>\n",
       "        <td>35.4524960679527</td>\n",
       "    </tr>\n",
       "    <tr>\n",
       "        <td>35.5086914894509</td>\n",
       "    </tr>\n",
       "    <tr>\n",
       "        <td>35.555079952177</td>\n",
       "    </tr>\n",
       "    <tr>\n",
       "        <td>35.5436717021821</td>\n",
       "    </tr>\n",
       "    <tr>\n",
       "        <td>35.3696354693401</td>\n",
       "    </tr>\n",
       "    <tr>\n",
       "        <td>35.3719820438861</td>\n",
       "    </tr>\n",
       "    <tr>\n",
       "        <td>35.4284924131129</td>\n",
       "    </tr>\n",
       "    <tr>\n",
       "        <td>35.4510261509833</td>\n",
       "    </tr>\n",
       "    <tr>\n",
       "        <td>35.52758732841</td>\n",
       "    </tr>\n",
       "    <tr>\n",
       "        <td>35.5879464212309</td>\n",
       "    </tr>\n",
       "    <tr>\n",
       "        <td>35.5036415013629</td>\n",
       "    </tr>\n",
       "    <tr>\n",
       "        <td>35.5021809321766</td>\n",
       "    </tr>\n",
       "    <tr>\n",
       "        <td>35.4128733172515</td>\n",
       "    </tr>\n",
       "    <tr>\n",
       "        <td>35.3204621025051</td>\n",
       "    </tr>\n",
       "    <tr>\n",
       "        <td>35.3246376741291</td>\n",
       "    </tr>\n",
       "    <tr>\n",
       "        <td>35.4188902518783</td>\n",
       "    </tr>\n",
       "    <tr>\n",
       "        <td>35.5574300851904</td>\n",
       "    </tr>\n",
       "    <tr>\n",
       "        <td>35.5748136845957</td>\n",
       "    </tr>\n",
       "    <tr>\n",
       "        <td>35.4607232025096</td>\n",
       "    </tr>\n",
       "    <tr>\n",
       "        <td>35.4942080871133</td>\n",
       "    </tr>\n",
       "    <tr>\n",
       "        <td>35.564217938338</td>\n",
       "    </tr>\n",
       "    <tr>\n",
       "        <td>35.5524004452358</td>\n",
       "    </tr>\n",
       "    <tr>\n",
       "        <td>35.4528100507844</td>\n",
       "    </tr>\n",
       "    <tr>\n",
       "        <td>35.4784424123495</td>\n",
       "    </tr>\n",
       "    <tr>\n",
       "        <td>35.3470886061257</td>\n",
       "    </tr>\n",
       "    <tr>\n",
       "        <td>35.3878988774765</td>\n",
       "    </tr>\n",
       "    <tr>\n",
       "        <td>35.5616308451469</td>\n",
       "    </tr>\n",
       "    <tr>\n",
       "        <td>35.5763875801071</td>\n",
       "    </tr>\n",
       "    <tr>\n",
       "        <td>35.5336591256248</td>\n",
       "    </tr>\n",
       "    <tr>\n",
       "        <td>35.3156488137044</td>\n",
       "    </tr>\n",
       "    <tr>\n",
       "        <td>35.5315035680986</td>\n",
       "    </tr>\n",
       "    <tr>\n",
       "        <td>35.5317043893169</td>\n",
       "    </tr>\n",
       "    <tr>\n",
       "        <td>35.4968199514506</td>\n",
       "    </tr>\n",
       "    <tr>\n",
       "        <td>35.5096529805981</td>\n",
       "    </tr>\n",
       "    <tr>\n",
       "        <td>35.4711904348092</td>\n",
       "    </tr>\n",
       "    <tr>\n",
       "        <td>21.3095809165478</td>\n",
       "    </tr>\n",
       "    <tr>\n",
       "        <td>19.4636207142659</td>\n",
       "    </tr>\n",
       "    <tr>\n",
       "        <td>21.7794342630221</td>\n",
       "    </tr>\n",
       "    <tr>\n",
       "        <td>19.2550686025498</td>\n",
       "    </tr>\n",
       "    <tr>\n",
       "        <td>21.4464728911889</td>\n",
       "    </tr>\n",
       "    <tr>\n",
       "        <td>21.8664877039409</td>\n",
       "    </tr>\n",
       "    <tr>\n",
       "        <td>21.3623255704476</td>\n",
       "    </tr>\n",
       "</table>"
      ],
      "text/plain": [
       "[(35.5187260391022,),\n",
       " (35.5403912827645,),\n",
       " (35.4976906065648,),\n",
       " (35.5211340049413,),\n",
       " (35.5230848613757,),\n",
       " (35.5756544866359,),\n",
       " (35.3803392045427,),\n",
       " (35.5686877257961,),\n",
       " (35.4524960679527,),\n",
       " (35.5086914894509,),\n",
       " (35.555079952177,),\n",
       " (35.5436717021821,),\n",
       " (35.3696354693401,),\n",
       " (35.3719820438861,),\n",
       " (35.4284924131129,),\n",
       " (35.4510261509833,),\n",
       " (35.52758732841,),\n",
       " (35.5879464212309,),\n",
       " (35.5036415013629,),\n",
       " (35.5021809321766,),\n",
       " (35.4128733172515,),\n",
       " (35.3204621025051,),\n",
       " (35.3246376741291,),\n",
       " (35.4188902518783,),\n",
       " (35.5574300851904,),\n",
       " (35.5748136845957,),\n",
       " (35.4607232025096,),\n",
       " (35.4942080871133,),\n",
       " (35.564217938338,),\n",
       " (35.5524004452358,),\n",
       " (35.4528100507844,),\n",
       " (35.4784424123495,),\n",
       " (35.3470886061257,),\n",
       " (35.3878988774765,),\n",
       " (35.5616308451469,),\n",
       " (35.5763875801071,),\n",
       " (35.5336591256248,),\n",
       " (35.3156488137044,),\n",
       " (35.5315035680986,),\n",
       " (35.5317043893169,),\n",
       " (35.4968199514506,),\n",
       " (35.5096529805981,),\n",
       " (35.4711904348092,),\n",
       " (21.3095809165478,),\n",
       " (19.4636207142659,),\n",
       " (21.7794342630221,),\n",
       " (19.2550686025498,),\n",
       " (21.4464728911889,),\n",
       " (21.8664877039409,),\n",
       " (21.3623255704476,)]"
      ]
     },
     "execution_count": 38,
     "metadata": {},
     "output_type": "execute_result"
    }
   ],
   "source": [
    "%%sql\n",
    "SELECT point(longitude, latitude) <-> (SELECT point(longitude, latitude) FROM max_pop) AS distance \n",
    "FROM geonames LIMIT 50;"
   ]
  },
  {
   "cell_type": "markdown",
   "metadata": {},
   "source": [
    "### Now calculate the distance from all locations to the tuple above using the haversine distance"
   ]
  },
  {
   "cell_type": "code",
   "execution_count": 39,
   "metadata": {},
   "outputs": [
    {
     "name": "stdout",
     "output_type": "stream",
     "text": [
      "Done.\n"
     ]
    },
    {
     "data": {
      "text/plain": [
       "[]"
      ]
     },
     "execution_count": 39,
     "metadata": {},
     "output_type": "execute_result"
    }
   ],
   "source": [
    "%%sql\n",
    "CREATE OR REPLACE FUNCTION public.geodistance(alat double precision, alng double precision, blat double precision, blng double precision)\n",
    "  RETURNS double precision AS\n",
    "$BODY$\n",
    "SELECT asin(\n",
    "  sqrt(\n",
    "    sin(radians($3-$1)/2)^2 +\n",
    "    sin(radians($4-$2)/2)^2 *\n",
    "    cos(radians($1)) *\n",
    "    cos(radians($3))\n",
    "  )\n",
    ") * 7926.3352 AS distance;\n",
    "$BODY$\n",
    "  LANGUAGE sql IMMUTABLE\n",
    "COST 100;"
   ]
  },
  {
   "cell_type": "code",
   "execution_count": 42,
   "metadata": {},
   "outputs": [
    {
     "name": "stdout",
     "output_type": "stream",
     "text": [
      "50 rows affected.\n"
     ]
    },
    {
     "data": {
      "text/html": [
       "<table>\n",
       "    <tr>\n",
       "        <th>geodistance</th>\n",
       "    </tr>\n",
       "    <tr>\n",
       "        <td>1948.31948131202</td>\n",
       "    </tr>\n",
       "    <tr>\n",
       "        <td>1948.97544410187</td>\n",
       "    </tr>\n",
       "    <tr>\n",
       "        <td>1946.67835552112</td>\n",
       "    </tr>\n",
       "    <tr>\n",
       "        <td>1948.51401122396</td>\n",
       "    </tr>\n",
       "    <tr>\n",
       "        <td>1948.68370586011</td>\n",
       "    </tr>\n",
       "    <tr>\n",
       "        <td>1951.17402268074</td>\n",
       "    </tr>\n",
       "    <tr>\n",
       "        <td>1940.93606757186</td>\n",
       "    </tr>\n",
       "    <tr>\n",
       "        <td>1950.34910315871</td>\n",
       "    </tr>\n",
       "    <tr>\n",
       "        <td>1944.25406670841</td>\n",
       "    </tr>\n",
       "    <tr>\n",
       "        <td>1947.84095795632</td>\n",
       "    </tr>\n",
       "    <tr>\n",
       "        <td>1949.88686229689</td>\n",
       "    </tr>\n",
       "    <tr>\n",
       "        <td>1949.13953229404</td>\n",
       "    </tr>\n",
       "    <tr>\n",
       "        <td>1939.98582109971</td>\n",
       "    </tr>\n",
       "    <tr>\n",
       "        <td>1940.12847978438</td>\n",
       "    </tr>\n",
       "    <tr>\n",
       "        <td>1943.52025063276</td>\n",
       "    </tr>\n",
       "    <tr>\n",
       "        <td>1944.23569433362</td>\n",
       "    </tr>\n",
       "    <tr>\n",
       "        <td>1948.32183363177</td>\n",
       "    </tr>\n",
       "    <tr>\n",
       "        <td>1951.8429225575</td>\n",
       "    </tr>\n",
       "    <tr>\n",
       "        <td>1947.4566112794</td>\n",
       "    </tr>\n",
       "    <tr>\n",
       "        <td>1947.19214328642</td>\n",
       "    </tr>\n",
       "    <tr>\n",
       "        <td>1942.64651548577</td>\n",
       "    </tr>\n",
       "    <tr>\n",
       "        <td>1937.75207924604</td>\n",
       "    </tr>\n",
       "    <tr>\n",
       "        <td>1937.68844092724</td>\n",
       "    </tr>\n",
       "    <tr>\n",
       "        <td>1942.37915226132</td>\n",
       "    </tr>\n",
       "    <tr>\n",
       "        <td>1949.7616240347</td>\n",
       "    </tr>\n",
       "    <tr>\n",
       "        <td>1950.74004873372</td>\n",
       "    </tr>\n",
       "    <tr>\n",
       "        <td>1945.29514355484</td>\n",
       "    </tr>\n",
       "    <tr>\n",
       "        <td>1946.96082623717</td>\n",
       "    </tr>\n",
       "    <tr>\n",
       "        <td>1950.13022018362</td>\n",
       "    </tr>\n",
       "    <tr>\n",
       "        <td>1949.71870324571</td>\n",
       "    </tr>\n",
       "    <tr>\n",
       "        <td>1944.36103305582</td>\n",
       "    </tr>\n",
       "    <tr>\n",
       "        <td>1945.9516065924</td>\n",
       "    </tr>\n",
       "    <tr>\n",
       "        <td>1938.98432392279</td>\n",
       "    </tr>\n",
       "    <tr>\n",
       "        <td>1940.83580239789</td>\n",
       "    </tr>\n",
       "    <tr>\n",
       "        <td>1950.48334101478</td>\n",
       "    </tr>\n",
       "    <tr>\n",
       "        <td>1950.77835988325</td>\n",
       "    </tr>\n",
       "    <tr>\n",
       "        <td>1948.64727936721</td>\n",
       "    </tr>\n",
       "    <tr>\n",
       "        <td>1937.31135598544</td>\n",
       "    </tr>\n",
       "    <tr>\n",
       "        <td>1948.96888971506</td>\n",
       "    </tr>\n",
       "    <tr>\n",
       "        <td>1948.43328425405</td>\n",
       "    </tr>\n",
       "    <tr>\n",
       "        <td>1946.93487950399</td>\n",
       "    </tr>\n",
       "    <tr>\n",
       "        <td>1947.4046813837</td>\n",
       "    </tr>\n",
       "    <tr>\n",
       "        <td>1945.5093412189</td>\n",
       "    </tr>\n",
       "    <tr>\n",
       "        <td>1311.37677883165</td>\n",
       "    </tr>\n",
       "    <tr>\n",
       "        <td>1217.59510581557</td>\n",
       "    </tr>\n",
       "    <tr>\n",
       "        <td>1335.99848535667</td>\n",
       "    </tr>\n",
       "    <tr>\n",
       "        <td>1205.59625526728</td>\n",
       "    </tr>\n",
       "    <tr>\n",
       "        <td>1334.51120889394</td>\n",
       "    </tr>\n",
       "    <tr>\n",
       "        <td>1354.01874585417</td>\n",
       "    </tr>\n",
       "    <tr>\n",
       "        <td>1324.38983407459</td>\n",
       "    </tr>\n",
       "</table>"
      ],
      "text/plain": [
       "[(1948.31948131202,),\n",
       " (1948.97544410187,),\n",
       " (1946.67835552112,),\n",
       " (1948.51401122396,),\n",
       " (1948.68370586011,),\n",
       " (1951.17402268074,),\n",
       " (1940.93606757186,),\n",
       " (1950.34910315871,),\n",
       " (1944.25406670841,),\n",
       " (1947.84095795632,),\n",
       " (1949.88686229689,),\n",
       " (1949.13953229404,),\n",
       " (1939.98582109971,),\n",
       " (1940.12847978438,),\n",
       " (1943.52025063276,),\n",
       " (1944.23569433362,),\n",
       " (1948.32183363177,),\n",
       " (1951.8429225575,),\n",
       " (1947.4566112794,),\n",
       " (1947.19214328642,),\n",
       " (1942.64651548577,),\n",
       " (1937.75207924604,),\n",
       " (1937.68844092724,),\n",
       " (1942.37915226132,),\n",
       " (1949.7616240347,),\n",
       " (1950.74004873372,),\n",
       " (1945.29514355484,),\n",
       " (1946.96082623717,),\n",
       " (1950.13022018362,),\n",
       " (1949.71870324571,),\n",
       " (1944.36103305582,),\n",
       " (1945.9516065924,),\n",
       " (1938.98432392279,),\n",
       " (1940.83580239789,),\n",
       " (1950.48334101478,),\n",
       " (1950.77835988325,),\n",
       " (1948.64727936721,),\n",
       " (1937.31135598544,),\n",
       " (1948.96888971506,),\n",
       " (1948.43328425405,),\n",
       " (1946.93487950399,),\n",
       " (1947.4046813837,),\n",
       " (1945.5093412189,),\n",
       " (1311.37677883165,),\n",
       " (1217.59510581557,),\n",
       " (1335.99848535667,),\n",
       " (1205.59625526728,),\n",
       " (1334.51120889394,),\n",
       " (1354.01874585417,),\n",
       " (1324.38983407459,)]"
      ]
     },
     "execution_count": 42,
     "metadata": {},
     "output_type": "execute_result"
    }
   ],
   "source": [
    "%%sql SELECT geodistance(latitude, longitude,\n",
    "                        (SELECT latitude FROM max_pop),\n",
    "                        (SELECT longitude FROM max_pop)) \n",
    "FROM geonames LIMIT 50;"
   ]
  },
  {
   "cell_type": "markdown",
   "metadata": {},
   "source": [
    "### D. Plot the latitude and longitude of the largest 1000 populations on a 2-D scatter plot"
   ]
  },
  {
   "cell_type": "code",
   "execution_count": 47,
   "metadata": {},
   "outputs": [
    {
     "name": "stdout",
     "output_type": "stream",
     "text": [
      "1000 rows affected.\n"
     ]
    }
   ],
   "source": [
    "result =  %sql SELECT longitude, latitude FROM geonames ORDER BY population DESC LIMIT 1000;"
   ]
  },
  {
   "cell_type": "code",
   "execution_count": 49,
   "metadata": {},
   "outputs": [],
   "source": [
    "import pandas as pd\n",
    "import matplotlib.pyplot as plt"
   ]
  },
  {
   "cell_type": "code",
   "execution_count": 62,
   "metadata": {},
   "outputs": [],
   "source": [
    "df = pd.DataFrame(result, columns=['longitude', 'latitude']);"
   ]
  },
  {
   "cell_type": "code",
   "execution_count": 63,
   "metadata": {},
   "outputs": [
    {
     "data": {
      "image/png": "[encoded data removed]",
      "text/plain": [
       "<matplotlib.figure.Figure at 0x7f1444307860>"
      ]
     },
     "metadata": {},
     "output_type": "display_data"
    }
   ],
   "source": [
    "df.plot.scatter(x='longitude', y='latitude');"
   ]
  },
  {
   "cell_type": "markdown",
   "metadata": {},
   "source": [
    "## 2. In the second part your job is to work with JSON data from the magic schema. The schema is based on the game Magic: The gathering"
   ]
  },
  {
   "cell_type": "markdown",
   "metadata": {},
   "source": [
    "### A. Find all the cards that is made by Rob Alexander"
   ]
  },
  {
   "cell_type": "code",
   "execution_count": 71,
   "metadata": {},
   "outputs": [
    {
     "name": "stdout",
     "output_type": "stream",
     "text": [
      "Done.\n",
      "Done.\n",
      "10 rows affected.\n"
     ]
    },
    {
     "data": {
      "text/html": [
       "<table>\n",
       "    <tr>\n",
       "        <th>data</th>\n",
       "    </tr>\n",
       "    <tr>\n",
       "        <td>{&#x27;id&#x27;: &#x27;4a7bf234af44e07d9a159d4d89e96ce320919917&#x27;, &#x27;cmc&#x27;: 6, &#x27;name&#x27;: &#x27;Beacon of Immortality&#x27;, &#x27;text&#x27;: &quot;Double target player&#x27;s life total. Shuffle Beacon of Immortality into its owner&#x27;s library.&quot;, &#x27;type&#x27;: &#x27;Instant&#x27;, &#x27;types&#x27;: [&#x27;Instant&#x27;], &#x27;artist&#x27;: &#x27;Rob Alexander&#x27;, &#x27;colors&#x27;: [&#x27;White&#x27;], &#x27;flavor&#x27;: &#x27;The cave floods with light. A thousand rays shine forth and meld into one.&#x27;, &#x27;layout&#x27;: &#x27;normal&#x27;, &#x27;number&#x27;: &#x27;10&#x27;, &#x27;rarity&#x27;: &#x27;Rare&#x27;, &#x27;manaCost&#x27;: &#x27;{5}{W}&#x27;, &#x27;imageName&#x27;: &#x27;beacon of immortality&#x27;, &#x27;mciNumber&#x27;: &#x27;10&#x27;, &#x27;multiverseid&#x27;: 130553, &#x27;colorIdentity&#x27;: [&#x27;W&#x27;]}</td>\n",
       "    </tr>\n",
       "    <tr>\n",
       "        <td>{&#x27;id&#x27;: &#x27;9cea331c080c3bbc7987c6560f65e39e9d1ed34f&#x27;, &#x27;cmc&#x27;: 5, &#x27;name&#x27;: &#x27;Kavu Climber&#x27;, &#x27;text&#x27;: &#x27;When Kavu Climber enters the battlefield, draw a card.&#x27;, &#x27;type&#x27;: &#x27;Creature — Kavu&#x27;, &#x27;power&#x27;: &#x27;3&#x27;, &#x27;types&#x27;: [&#x27;Creature&#x27;], &#x27;artist&#x27;: &#x27;Rob Alexander&#x27;, &#x27;colors&#x27;: [&#x27;Green&#x27;], &#x27;flavor&#x27;: &#x27;&quot;There was a crack of branches, a rustle of leaves, then a tremendous roar. Our party had no chance as death descended from above.&quot;\\n—Taseen, elvish bard&#x27;, &#x27;layout&#x27;: &#x27;normal&#x27;, &#x27;number&#x27;: &#x27;273&#x27;, &#x27;rarity&#x27;: &#x27;Common&#x27;, &#x27;manaCost&#x27;: &#x27;{3}{G}{G}&#x27;, &#x27;subtypes&#x27;: [&#x27;Kavu&#x27;], &#x27;imageName&#x27;: &#x27;kavu climber&#x27;, &#x27;mciNumber&#x27;: &#x27;273&#x27;, &#x27;toughness&#x27;: &#x27;3&#x27;, &#x27;multiverseid&#x27;: 129511, &#x27;colorIdentity&#x27;: [&#x27;G&#x27;]}</td>\n",
       "    </tr>\n",
       "    <tr>\n",
       "        <td>{&#x27;id&#x27;: &#x27;28cc7c79cca8939fd9661f7abfc6ca453715b75e&#x27;, &#x27;cmc&#x27;: 0, &#x27;name&#x27;: &#x27;Llanowar Wastes&#x27;, &#x27;text&#x27;: &#x27;{T}: Add {C} to your mana pool.\\n{T}: Add {B} or {G} to your mana pool. Llanowar Wastes deals 1 damage to you.&#x27;, &#x27;type&#x27;: &#x27;Land&#x27;, &#x27;types&#x27;: [&#x27;Land&#x27;], &#x27;artist&#x27;: &#x27;Rob Alexander&#x27;, &#x27;layout&#x27;: &#x27;normal&#x27;, &#x27;number&#x27;: &#x27;355&#x27;, &#x27;rarity&#x27;: &#x27;Rare&#x27;, &#x27;imageName&#x27;: &#x27;llanowar wastes&#x27;, &#x27;mciNumber&#x27;: &#x27;355&#x27;, &#x27;multiverseid&#x27;: 129627, &#x27;colorIdentity&#x27;: [&#x27;B&#x27;, &#x27;G&#x27;]}</td>\n",
       "    </tr>\n",
       "    <tr>\n",
       "        <td>{&#x27;id&#x27;: &#x27;7a90b7ba6197f8774ed99ecf75ac9abb3e0c0f20&#x27;, &#x27;cmc&#x27;: 0, &#x27;name&#x27;: &#x27;Shivan Reef&#x27;, &#x27;text&#x27;: &#x27;{T}: Add {C} to your mana pool.\\n{T}: Add {U} or {R} to your mana pool. Shivan Reef deals 1 damage to you.&#x27;, &#x27;type&#x27;: &#x27;Land&#x27;, &#x27;types&#x27;: [&#x27;Land&#x27;], &#x27;artist&#x27;: &#x27;Rob Alexander&#x27;, &#x27;layout&#x27;: &#x27;normal&#x27;, &#x27;number&#x27;: &#x27;357&#x27;, &#x27;rarity&#x27;: &#x27;Rare&#x27;, &#x27;imageName&#x27;: &#x27;shivan reef&#x27;, &#x27;mciNumber&#x27;: &#x27;357&#x27;, &#x27;multiverseid&#x27;: 129731, &#x27;colorIdentity&#x27;: [&#x27;U&#x27;, &#x27;R&#x27;]}</td>\n",
       "    </tr>\n",
       "    <tr>\n",
       "        <td>{&#x27;id&#x27;: &#x27;8d1035f151615c949d0645b70fe01d8ab4a3f796&#x27;, &#x27;cmc&#x27;: 0, &#x27;name&#x27;: &#x27;Sulfurous Springs&#x27;, &#x27;text&#x27;: &#x27;{T}: Add {C} to your mana pool.\\n{T}: Add {B} or {R} to your mana pool. Sulfurous Springs deals 1 damage to you.&#x27;, &#x27;type&#x27;: &#x27;Land&#x27;, &#x27;types&#x27;: [&#x27;Land&#x27;], &#x27;artist&#x27;: &#x27;Rob Alexander&#x27;, &#x27;layout&#x27;: &#x27;normal&#x27;, &#x27;number&#x27;: &#x27;359&#x27;, &#x27;rarity&#x27;: &#x27;Rare&#x27;, &#x27;imageName&#x27;: &#x27;sulfurous springs&#x27;, &#x27;mciNumber&#x27;: &#x27;359&#x27;, &#x27;multiverseid&#x27;: 129751, &#x27;colorIdentity&#x27;: [&#x27;B&#x27;, &#x27;R&#x27;]}</td>\n",
       "    </tr>\n",
       "    <tr>\n",
       "        <td>{&#x27;id&#x27;: &#x27;c97103ab834aad9b3fb7d07c4fb563089f97fe87&#x27;, &#x27;cmc&#x27;: 0, &#x27;name&#x27;: &#x27;Treetop Village&#x27;, &#x27;text&#x27;: &quot;Treetop Village enters the battlefield tapped.\\n{T}: Add {G} to your mana pool.\\n{1}{G}: Treetop Village becomes a 3/3 green Ape creature with trample until end of turn. It&#x27;s still a land. (If it would assign enough damage to its blockers to destroy them, you may have it assign the rest of its damage to defending player or planeswalker.)&quot;, &#x27;type&#x27;: &#x27;Land&#x27;, &#x27;types&#x27;: [&#x27;Land&#x27;], &#x27;artist&#x27;: &#x27;Rob Alexander&#x27;, &#x27;layout&#x27;: &#x27;normal&#x27;, &#x27;number&#x27;: &#x27;361&#x27;, &#x27;rarity&#x27;: &#x27;Uncommon&#x27;, &#x27;imageName&#x27;: &#x27;treetop village&#x27;, &#x27;mciNumber&#x27;: &#x27;361&#x27;, &#x27;multiverseid&#x27;: 106455, &#x27;colorIdentity&#x27;: [&#x27;G&#x27;]}</td>\n",
       "    </tr>\n",
       "    <tr>\n",
       "        <td>{&#x27;id&#x27;: &#x27;24a47bf9cb4596246501294e7127bf74e082bc1d&#x27;, &#x27;cmc&#x27;: 0, &#x27;name&#x27;: &#x27;Plains&#x27;, &#x27;type&#x27;: &#x27;Basic Land — Plains&#x27;, &#x27;types&#x27;: [&#x27;Land&#x27;], &#x27;artist&#x27;: &#x27;Rob Alexander&#x27;, &#x27;layout&#x27;: &#x27;normal&#x27;, &#x27;number&#x27;: &#x27;364&#x27;, &#x27;rarity&#x27;: &#x27;Basic Land&#x27;, &#x27;subtypes&#x27;: [&#x27;Plains&#x27;], &#x27;imageName&#x27;: &#x27;plains1&#x27;, &#x27;watermark&#x27;: &#x27;White&#x27;, &#x27;supertypes&#x27;: [&#x27;Basic&#x27;], &#x27;variations&#x27;: [129682, 129683, 129681], &#x27;multiverseid&#x27;: 129680, &#x27;colorIdentity&#x27;: [&#x27;W&#x27;]}</td>\n",
       "    </tr>\n",
       "    <tr>\n",
       "        <td>{&#x27;id&#x27;: &#x27;be5e30798e4f8b9b6f6e6a8dd2e30bf86bb04b94&#x27;, &#x27;cmc&#x27;: 0, &#x27;name&#x27;: &#x27;Forest&#x27;, &#x27;type&#x27;: &#x27;Basic Land — Forest&#x27;, &#x27;types&#x27;: [&#x27;Land&#x27;], &#x27;artist&#x27;: &#x27;Rob Alexander&#x27;, &#x27;layout&#x27;: &#x27;normal&#x27;, &#x27;number&#x27;: &#x27;382&#x27;, &#x27;rarity&#x27;: &#x27;Basic Land&#x27;, &#x27;subtypes&#x27;: [&#x27;Forest&#x27;], &#x27;imageName&#x27;: &#x27;forest3&#x27;, &#x27;watermark&#x27;: &#x27;Green&#x27;, &#x27;supertypes&#x27;: [&#x27;Basic&#x27;], &#x27;variations&#x27;: [129559, 129562, 129560], &#x27;multiverseid&#x27;: 129561, &#x27;colorIdentity&#x27;: [&#x27;G&#x27;]}</td>\n",
       "    </tr>\n",
       "    <tr>\n",
       "        <td>{&#x27;id&#x27;: &#x27;4c3d9f2b7086021880c8268f9def8f7548116d17&#x27;, &#x27;cmc&#x27;: 0, &#x27;name&#x27;: &#x27;Badlands&#x27;, &#x27;text&#x27;: &#x27;({T}: Add {B} or {R} to your mana pool.)&#x27;, &#x27;type&#x27;: &#x27;Land — Swamp Mountain&#x27;, &#x27;types&#x27;: [&#x27;Land&#x27;], &#x27;artist&#x27;: &#x27;Rob Alexander&#x27;, &#x27;layout&#x27;: &#x27;normal&#x27;, &#x27;rarity&#x27;: &#x27;Rare&#x27;, &#x27;reserved&#x27;: True, &#x27;subtypes&#x27;: [&#x27;Swamp&#x27;, &#x27;Mountain&#x27;], &#x27;imageName&#x27;: &#x27;badlands&#x27;, &#x27;mciNumber&#x27;: &#x27;278&#x27;, &#x27;multiverseid&#x27;: 878, &#x27;colorIdentity&#x27;: [&#x27;B&#x27;, &#x27;R&#x27;]}</td>\n",
       "    </tr>\n",
       "    <tr>\n",
       "        <td>{&#x27;id&#x27;: &#x27;3ad1eecb97909f6d45763cc87c07fa23cf574cf7&#x27;, &#x27;cmc&#x27;: 1, &#x27;name&#x27;: &#x27;Lance&#x27;, &#x27;text&#x27;: &#x27;Enchant creature\\nEnchanted creature has first strike.&#x27;, &#x27;type&#x27;: &#x27;Enchantment — Aura&#x27;, &#x27;types&#x27;: [&#x27;Enchantment&#x27;], &#x27;artist&#x27;: &#x27;Rob Alexander&#x27;, &#x27;colors&#x27;: [&#x27;White&#x27;], &#x27;layout&#x27;: &#x27;normal&#x27;, &#x27;rarity&#x27;: &#x27;Uncommon&#x27;, &#x27;manaCost&#x27;: &#x27;{W}&#x27;, &#x27;subtypes&#x27;: [&#x27;Aura&#x27;], &#x27;imageName&#x27;: &#x27;lance&#x27;, &#x27;mciNumber&#x27;: &#x27;212&#x27;, &#x27;multiverseid&#x27;: 856, &#x27;colorIdentity&#x27;: [&#x27;W&#x27;]}</td>\n",
       "    </tr>\n",
       "</table>"
      ],
      "text/plain": [
       "[({'id': '4a7bf234af44e07d9a159d4d89e96ce320919917', 'cmc': 6, 'name': 'Beacon of Immortality', 'text': \"Double target player's life total. Shuffle Beac ... (253 characters truncated) ... '10', 'rarity': 'Rare', 'manaCost': '{5}{W}', 'imageName': 'beacon of immortality', 'mciNumber': '10', 'multiverseid': 130553, 'colorIdentity': ['W']},),\n",
       " ({'id': '9cea331c080c3bbc7987c6560f65e39e9d1ed34f', 'cmc': 5, 'name': 'Kavu Climber', 'text': 'When Kavu Climber enters the battlefield, draw a card.', ... (348 characters truncated) ...  '{3}{G}{G}', 'subtypes': ['Kavu'], 'imageName': 'kavu climber', 'mciNumber': '273', 'toughness': '3', 'multiverseid': 129511, 'colorIdentity': ['G']},),\n",
       " ({'id': '28cc7c79cca8939fd9661f7abfc6ca453715b75e', 'cmc': 0, 'name': 'Llanowar Wastes', 'text': '{T}: Add {C} to your mana pool.\\n{T}: Add {B} or {G}  ... (131 characters truncated) ...  'normal', 'number': '355', 'rarity': 'Rare', 'imageName': 'llanowar wastes', 'mciNumber': '355', 'multiverseid': 129627, 'colorIdentity': ['B', 'G']},),\n",
       " ({'id': '7a90b7ba6197f8774ed99ecf75ac9abb3e0c0f20', 'cmc': 0, 'name': 'Shivan Reef', 'text': '{T}: Add {C} to your mana pool.\\n{T}: Add {U} or {R} to y ... (119 characters truncated) ... ut': 'normal', 'number': '357', 'rarity': 'Rare', 'imageName': 'shivan reef', 'mciNumber': '357', 'multiverseid': 129731, 'colorIdentity': ['U', 'R']},),\n",
       " ({'id': '8d1035f151615c949d0645b70fe01d8ab4a3f796', 'cmc': 0, 'name': 'Sulfurous Springs', 'text': '{T}: Add {C} to your mana pool.\\n{T}: Add {B} or {R ... (137 characters truncated) ... normal', 'number': '359', 'rarity': 'Rare', 'imageName': 'sulfurous springs', 'mciNumber': '359', 'multiverseid': 129751, 'colorIdentity': ['B', 'R']},),\n",
       " ({'id': 'c97103ab834aad9b3fb7d07c4fb563089f97fe87', 'cmc': 0, 'name': 'Treetop Village', 'text': \"Treetop Village enters the battlefield tapped.\\n{T}:  ... (359 characters truncated) ... : 'normal', 'number': '361', 'rarity': 'Uncommon', 'imageName': 'treetop village', 'mciNumber': '361', 'multiverseid': 106455, 'colorIdentity': ['G']},),\n",
       " ({'id': '24a47bf9cb4596246501294e7127bf74e082bc1d', 'cmc': 0, 'name': 'Plains', 'type': 'Basic Land — Plains', 'types': ['Land'], 'artist': 'Rob Alexan ... (99 characters truncated) ... me': 'plains1', 'watermark': 'White', 'supertypes': ['Basic'], 'variations': [129682, 129683, 129681], 'multiverseid': 129680, 'colorIdentity': ['W']},),\n",
       " ({'id': 'be5e30798e4f8b9b6f6e6a8dd2e30bf86bb04b94', 'cmc': 0, 'name': 'Forest', 'type': 'Basic Land — Forest', 'types': ['Land'], 'artist': 'Rob Alexan ... (99 characters truncated) ... me': 'forest3', 'watermark': 'Green', 'supertypes': ['Basic'], 'variations': [129559, 129562, 129560], 'multiverseid': 129561, 'colorIdentity': ['G']},),\n",
       " ({'id': '4c3d9f2b7086021880c8268f9def8f7548116d17', 'cmc': 0, 'name': 'Badlands', 'text': '({T}: Add {B} or {R} to your mana pool.)', 'type': 'Land — S ... (97 characters truncated) ... ', 'reserved': True, 'subtypes': ['Swamp', 'Mountain'], 'imageName': 'badlands', 'mciNumber': '278', 'multiverseid': 878, 'colorIdentity': ['B', 'R']},),\n",
       " ({'id': '3ad1eecb97909f6d45763cc87c07fa23cf574cf7', 'cmc': 1, 'name': 'Lance', 'text': 'Enchant creature\\nEnchanted creature has first strike.', 'type' ... (117 characters truncated) ...  'rarity': 'Uncommon', 'manaCost': '{W}', 'subtypes': ['Aura'], 'imageName': 'lance', 'mciNumber': '212', 'multiverseid': 856, 'colorIdentity': ['W']},)]"
      ]
     },
     "execution_count": 71,
     "metadata": {},
     "output_type": "execute_result"
    }
   ],
   "source": [
    "%%sql\n",
    "DROP VIEW IF EXISTS rob_alexander;\n",
    "CREATE VIEW rob_alexander AS\n",
    "SELECT data FROM cards WHERE data @> '{\"artist\":\"Rob Alexander\"}';\n",
    "\n",
    "SELECT * FROM rob_alexander LIMIT 10;"
   ]
  },
  {
   "cell_type": "markdown",
   "metadata": {},
   "source": [
    "### B. Find all the cards that have the subtype \"Human\""
   ]
  },
  {
   "cell_type": "code",
   "execution_count": 75,
   "metadata": {},
   "outputs": [
    {
     "name": "stdout",
     "output_type": "stream",
     "text": [
      "Done.\n",
      "Done.\n",
      "10 rows affected.\n"
     ]
    },
    {
     "data": {
      "text/html": [
       "<table>\n",
       "    <tr>\n",
       "        <th>data</th>\n",
       "    </tr>\n",
       "    <tr>\n",
       "        <td>{&#x27;id&#x27;: &#x27;ab1ab474019e4e76c66e2b524d354cb7c3212616&#x27;, &#x27;cmc&#x27;: 7, &#x27;name&#x27;: &quot;Ancestor&#x27;s Chosen&quot;, &#x27;text&#x27;: &quot;First strike (This creature deals combat damage before creatures without first strike.)\\nWhen Ancestor&#x27;s Chosen enters the battlefield, you gain 1 life for each card in your graveyard.&quot;, &#x27;type&#x27;: &#x27;Creature — Human Cleric&#x27;, &#x27;power&#x27;: &#x27;4&#x27;, &#x27;types&#x27;: [&#x27;Creature&#x27;], &#x27;artist&#x27;: &#x27;Pete Venters&#x27;, &#x27;colors&#x27;: [&#x27;White&#x27;], &#x27;flavor&#x27;: &#x27;&quot;The will of all, by my hand done.&quot;&#x27;, &#x27;layout&#x27;: &#x27;normal&#x27;, &#x27;number&#x27;: &#x27;1&#x27;, &#x27;rarity&#x27;: &#x27;Uncommon&#x27;, &#x27;manaCost&#x27;: &#x27;{5}{W}{W}&#x27;, &#x27;subtypes&#x27;: [&#x27;Human&#x27;, &#x27;Cleric&#x27;], &#x27;imageName&#x27;: &quot;ancestor&#x27;s chosen&quot;, &#x27;mciNumber&#x27;: &#x27;1&#x27;, &#x27;toughness&#x27;: &#x27;4&#x27;, &#x27;multiverseid&#x27;: 130550, &#x27;colorIdentity&#x27;: [&#x27;W&#x27;]}</td>\n",
       "    </tr>\n",
       "    <tr>\n",
       "        <td>{&#x27;id&#x27;: &#x27;d3488c0a916bd922856473155a8b49ec23fc2217&#x27;, &#x27;cmc&#x27;: 4, &#x27;name&#x27;: &#x27;Ballista Squad&#x27;, &#x27;text&#x27;: &#x27;{X}{W}, {T}: Ballista Squad deals X damage to target attacking or blocking creature.&#x27;, &#x27;type&#x27;: &#x27;Creature — Human Rebel&#x27;, &#x27;power&#x27;: &#x27;2&#x27;, &#x27;types&#x27;: [&#x27;Creature&#x27;], &#x27;artist&#x27;: &#x27;Matthew D. Wilson&#x27;, &#x27;colors&#x27;: [&#x27;White&#x27;], &#x27;flavor&#x27;: &#x27;The perfect antidote for a tightly packed formation.&#x27;, &#x27;layout&#x27;: &#x27;normal&#x27;, &#x27;number&#x27;: &#x27;8&#x27;, &#x27;rarity&#x27;: &#x27;Uncommon&#x27;, &#x27;manaCost&#x27;: &#x27;{3}{W}&#x27;, &#x27;subtypes&#x27;: [&#x27;Human&#x27;, &#x27;Rebel&#x27;], &#x27;imageName&#x27;: &#x27;ballista squad&#x27;, &#x27;mciNumber&#x27;: &#x27;8&#x27;, &#x27;toughness&#x27;: &#x27;2&#x27;, &#x27;multiverseid&#x27;: 129477, &#x27;colorIdentity&#x27;: [&#x27;W&#x27;]}</td>\n",
       "    </tr>\n",
       "    <tr>\n",
       "        <td>{&#x27;id&#x27;: &#x27;29c46fca29e5de01dba3bbf05393325bc9132735&#x27;, &#x27;cmc&#x27;: 3, &#x27;name&#x27;: &#x27;Benalish Knight&#x27;, &#x27;text&#x27;: &#x27;Flash (You may cast this spell any time you could cast an instant.)\\nFirst strike (This creature deals combat damage before creatures without first strike.)&#x27;, &#x27;type&#x27;: &#x27;Creature — Human Knight&#x27;, &#x27;power&#x27;: &#x27;2&#x27;, &#x27;types&#x27;: [&#x27;Creature&#x27;], &#x27;artist&#x27;: &#x27;Zoltan Boros &amp; Gabor Szikszai&#x27;, &#x27;colors&#x27;: [&#x27;White&#x27;], &#x27;flavor&#x27;: &#x27;&quot;We called them \\&#x27;armored lightning.\\&#x27;&quot;\\n—Gerrard of the Weatherlight&#x27;, &#x27;layout&#x27;: &#x27;normal&#x27;, &#x27;number&#x27;: &#x27;11&#x27;, &#x27;rarity&#x27;: &#x27;Common&#x27;, &#x27;manaCost&#x27;: &#x27;{2}{W}&#x27;, &#x27;subtypes&#x27;: [&#x27;Human&#x27;, &#x27;Knight&#x27;], &#x27;imageName&#x27;: &#x27;benalish knight&#x27;, &#x27;mciNumber&#x27;: &#x27;11&#x27;, &#x27;toughness&#x27;: &#x27;2&#x27;, &#x27;multiverseid&#x27;: 136279, &#x27;colorIdentity&#x27;: [&#x27;W&#x27;]}</td>\n",
       "    </tr>\n",
       "    <tr>\n",
       "        <td>{&#x27;id&#x27;: &#x27;e8b8dea65daf4e9070cce5de62bdbea0bf36d47c&#x27;, &#x27;cmc&#x27;: 4, &#x27;name&#x27;: &#x27;Cho-Manno, Revolutionary&#x27;, &#x27;text&#x27;: &#x27;Prevent all damage that would be dealt to Cho-Manno, Revolutionary.&#x27;, &#x27;type&#x27;: &#x27;Legendary Creature — Human Rebel&#x27;, &#x27;power&#x27;: &#x27;2&#x27;, &#x27;types&#x27;: [&#x27;Creature&#x27;], &#x27;artist&#x27;: &#x27;Steven Belledin&#x27;, &#x27;colors&#x27;: [&#x27;White&#x27;], &#x27;flavor&#x27;: &#x27;&quot;Mercadia\\&#x27;s masks can no longer hide the truth. Our day has come at last.&quot;&#x27;, &#x27;layout&#x27;: &#x27;normal&#x27;, &#x27;number&#x27;: &#x27;12&#x27;, &#x27;rarity&#x27;: &#x27;Rare&#x27;, &#x27;manaCost&#x27;: &#x27;{2}{W}{W}&#x27;, &#x27;subtypes&#x27;: [&#x27;Human&#x27;, &#x27;Rebel&#x27;], &#x27;imageName&#x27;: &#x27;cho-manno, revolutionary&#x27;, &#x27;mciNumber&#x27;: &#x27;12&#x27;, &#x27;toughness&#x27;: &#x27;2&#x27;, &#x27;supertypes&#x27;: [&#x27;Legendary&#x27;], &#x27;multiverseid&#x27;: 130554, &#x27;colorIdentity&#x27;: [&#x27;W&#x27;]}</td>\n",
       "    </tr>\n",
       "    <tr>\n",
       "        <td>{&#x27;id&#x27;: &#x27;80a6b907fc380ed97615e8abc0fe6071c4ceef67&#x27;, &#x27;cmc&#x27;: 3, &#x27;name&#x27;: &#x27;Field Marshal&#x27;, &#x27;text&#x27;: &#x27;Other Soldier creatures get +1/+1 and have first strike. (They deal combat damage before creatures without first strike.)&#x27;, &#x27;type&#x27;: &#x27;Creature — Human Soldier&#x27;, &#x27;power&#x27;: &#x27;2&#x27;, &#x27;types&#x27;: [&#x27;Creature&#x27;], &#x27;artist&#x27;: &#x27;Stephen Tappin&#x27;, &#x27;colors&#x27;: [&#x27;White&#x27;], &#x27;flavor&#x27;: &#x27;He is the only one who sees the patterns in the overlapping maps and conflicting reports.&#x27;, &#x27;layout&#x27;: &#x27;normal&#x27;, &#x27;number&#x27;: &#x27;15&#x27;, &#x27;rarity&#x27;: &#x27;Rare&#x27;, &#x27;manaCost&#x27;: &#x27;{1}{W}{W}&#x27;, &#x27;subtypes&#x27;: [&#x27;Human&#x27;, &#x27;Soldier&#x27;], &#x27;imageName&#x27;: &#x27;field marshal&#x27;, &#x27;mciNumber&#x27;: &#x27;15&#x27;, &#x27;toughness&#x27;: &#x27;2&#x27;, &#x27;multiverseid&#x27;: 135258, &#x27;colorIdentity&#x27;: [&#x27;W&#x27;]}</td>\n",
       "    </tr>\n",
       "    <tr>\n",
       "        <td>{&#x27;id&#x27;: &#x27;7879b835a2c3d6516515d03bd3a3894dceee1812&#x27;, &#x27;cmc&#x27;: 1, &#x27;name&#x27;: &#x27;Honor Guard&#x27;, &#x27;text&#x27;: &#x27;{W}: Honor Guard gets +0/+1 until end of turn.&#x27;, &#x27;type&#x27;: &#x27;Creature — Human Soldier&#x27;, &#x27;power&#x27;: &#x27;1&#x27;, &#x27;types&#x27;: [&#x27;Creature&#x27;], &#x27;artist&#x27;: &#x27;Dan Dos Santos&#x27;, &#x27;colors&#x27;: [&#x27;White&#x27;], &#x27;flavor&#x27;: &#x27;The strength of one. The courage of ten.&#x27;, &#x27;layout&#x27;: &#x27;normal&#x27;, &#x27;number&#x27;: &#x27;23&#x27;, &#x27;rarity&#x27;: &#x27;Common&#x27;, &#x27;manaCost&#x27;: &#x27;{W}&#x27;, &#x27;subtypes&#x27;: [&#x27;Human&#x27;, &#x27;Soldier&#x27;], &#x27;imageName&#x27;: &#x27;honor guard&#x27;, &#x27;mciNumber&#x27;: &#x27;23&#x27;, &#x27;toughness&#x27;: &#x27;1&#x27;, &#x27;multiverseid&#x27;: 129595, &#x27;colorIdentity&#x27;: [&#x27;W&#x27;]}</td>\n",
       "    </tr>\n",
       "    <tr>\n",
       "        <td>{&#x27;id&#x27;: &#x27;55932565b6905650e67e784b7cf0df63990e9851&#x27;, &#x27;cmc&#x27;: 1, &#x27;name&#x27;: &#x27;Icatian Priest&#x27;, &#x27;text&#x27;: &#x27;{1}{W}{W}: Target creature gets +1/+1 until end of turn.&#x27;, &#x27;type&#x27;: &#x27;Creature — Human Cleric&#x27;, &#x27;power&#x27;: &#x27;1&#x27;, &#x27;types&#x27;: [&#x27;Creature&#x27;], &#x27;artist&#x27;: &#x27;Stephen Tappin&#x27;, &#x27;colors&#x27;: [&#x27;White&#x27;], &#x27;flavor&#x27;: &quot;Grelden knelt and felt the cool, dry hand of the priest on his brow. Hours later, when his wits returned, he was covered in his enemies&#x27; blood on the field of victory.&quot;, &#x27;layout&#x27;: &#x27;normal&#x27;, &#x27;number&#x27;: &#x27;24&#x27;, &#x27;rarity&#x27;: &#x27;Uncommon&#x27;, &#x27;manaCost&#x27;: &#x27;{W}&#x27;, &#x27;subtypes&#x27;: [&#x27;Human&#x27;, &#x27;Cleric&#x27;], &#x27;imageName&#x27;: &#x27;icatian priest&#x27;, &#x27;mciNumber&#x27;: &#x27;24&#x27;, &#x27;toughness&#x27;: &#x27;1&#x27;, &#x27;multiverseid&#x27;: 132123, &#x27;colorIdentity&#x27;: [&#x27;W&#x27;]}</td>\n",
       "    </tr>\n",
       "    <tr>\n",
       "        <td>{&#x27;id&#x27;: &#x27;bc1e197c295bc12cc1b392a11b94782f1396b263&#x27;, &#x27;cmc&#x27;: 5, &#x27;name&#x27;: &#x27;Kjeldoran Royal Guard&#x27;, &#x27;text&#x27;: &#x27;{T}: All combat damage that would be dealt to you by unblocked creatures this turn is dealt to Kjeldoran Royal Guard instead.&#x27;, &#x27;type&#x27;: &#x27;Creature — Human Soldier&#x27;, &#x27;power&#x27;: &#x27;2&#x27;, &#x27;types&#x27;: [&#x27;Creature&#x27;], &#x27;artist&#x27;: &#x27;Carl Critchlow&#x27;, &#x27;colors&#x27;: [&#x27;White&#x27;], &#x27;flavor&#x27;: &quot;Upon the frozen tundra stand the Kjeldoran Royal Guard, pikes raised, with the king&#x27;s oath upon their lips.&quot;, &#x27;layout&#x27;: &#x27;normal&#x27;, &#x27;number&#x27;: &#x27;25&#x27;, &#x27;rarity&#x27;: &#x27;Rare&#x27;, &#x27;manaCost&#x27;: &#x27;{3}{W}{W}&#x27;, &#x27;subtypes&#x27;: [&#x27;Human&#x27;, &#x27;Soldier&#x27;], &#x27;imageName&#x27;: &#x27;kjeldoran royal guard&#x27;, &#x27;mciNumber&#x27;: &#x27;25&#x27;, &#x27;toughness&#x27;: &#x27;5&#x27;, &#x27;multiverseid&#x27;: 130551, &#x27;colorIdentity&#x27;: [&#x27;W&#x27;]}</td>\n",
       "    </tr>\n",
       "    <tr>\n",
       "        <td>{&#x27;id&#x27;: &#x27;e25120395df829af067675f1582ae946543094e2&#x27;, &#x27;cmc&#x27;: 1, &#x27;name&#x27;: &#x27;Loyal Sentry&#x27;, &#x27;text&#x27;: &#x27;When Loyal Sentry blocks a creature, destroy that creature and Loyal Sentry.&#x27;, &#x27;type&#x27;: &#x27;Creature — Human Soldier&#x27;, &#x27;power&#x27;: &#x27;1&#x27;, &#x27;types&#x27;: [&#x27;Creature&#x27;], &#x27;artist&#x27;: &#x27;Michael Sutfin&#x27;, &#x27;colors&#x27;: [&#x27;White&#x27;], &#x27;flavor&#x27;: &#x27;&quot;My cause is simple: To stop you, at any cost, from ever seeing the inside of this keep.&quot;&#x27;, &#x27;layout&#x27;: &#x27;normal&#x27;, &#x27;number&#x27;: &#x27;27&#x27;, &#x27;rarity&#x27;: &#x27;Rare&#x27;, &#x27;manaCost&#x27;: &#x27;{W}&#x27;, &#x27;subtypes&#x27;: [&#x27;Human&#x27;, &#x27;Soldier&#x27;], &#x27;imageName&#x27;: &#x27;loyal sentry&#x27;, &#x27;mciNumber&#x27;: &#x27;27&#x27;, &#x27;toughness&#x27;: &#x27;1&#x27;, &#x27;multiverseid&#x27;: 129798, &#x27;colorIdentity&#x27;: [&#x27;W&#x27;]}</td>\n",
       "    </tr>\n",
       "    <tr>\n",
       "        <td>{&#x27;id&#x27;: &#x27;f0bd8f9ffd23760499a421ca4cd2f211130542b8&#x27;, &#x27;cmc&#x27;: 3, &#x27;name&#x27;: &#x27;Nomad Mythmaker&#x27;, &#x27;text&#x27;: &#x27;{W}, {T}: Put target Aura card from a graveyard onto the battlefield under your control attached to a creature you control.&#x27;, &#x27;type&#x27;: &#x27;Creature — Human Nomad Cleric&#x27;, &#x27;power&#x27;: &#x27;2&#x27;, &#x27;types&#x27;: [&#x27;Creature&#x27;], &#x27;artist&#x27;: &#x27;Darrell Riche&#x27;, &#x27;colors&#x27;: [&#x27;White&#x27;], &#x27;flavor&#x27;: &#x27;On the wild steppes, history vanishes in the dust. Only the mythmakers remain to say what was, and is, and will be.&#x27;, &#x27;layout&#x27;: &#x27;normal&#x27;, &#x27;number&#x27;: &#x27;30&#x27;, &#x27;rarity&#x27;: &#x27;Rare&#x27;, &#x27;manaCost&#x27;: &#x27;{2}{W}&#x27;, &#x27;subtypes&#x27;: [&#x27;Human&#x27;, &#x27;Nomad&#x27;, &#x27;Cleric&#x27;], &#x27;imageName&#x27;: &#x27;nomad mythmaker&#x27;, &#x27;mciNumber&#x27;: &#x27;30&#x27;, &#x27;toughness&#x27;: &#x27;2&#x27;, &#x27;multiverseid&#x27;: 130547, &#x27;colorIdentity&#x27;: [&#x27;W&#x27;]}</td>\n",
       "    </tr>\n",
       "</table>"
      ],
      "text/plain": [
       "[({'id': 'ab1ab474019e4e76c66e2b524d354cb7c3212616', 'cmc': 7, 'name': \"Ancestor's Chosen\", 'text': \"First strike (This creature deals combat damage bef ... (386 characters truncated) ... 'subtypes': ['Human', 'Cleric'], 'imageName': \"ancestor's chosen\", 'mciNumber': '1', 'toughness': '4', 'multiverseid': 130550, 'colorIdentity': ['W']},),\n",
       " ({'id': 'd3488c0a916bd922856473155a8b49ec23fc2217', 'cmc': 4, 'name': 'Ballista Squad', 'text': '{X}{W}, {T}: Ballista Squad deals X damage to target a ... (297 characters truncated) ... }', 'subtypes': ['Human', 'Rebel'], 'imageName': 'ballista squad', 'mciNumber': '8', 'toughness': '2', 'multiverseid': 129477, 'colorIdentity': ['W']},),\n",
       " ({'id': '29c46fca29e5de01dba3bbf05393325bc9132735', 'cmc': 3, 'name': 'Benalish Knight', 'text': 'Flash (You may cast this spell any time you could cas ... (402 characters truncated) ...  'subtypes': ['Human', 'Knight'], 'imageName': 'benalish knight', 'mciNumber': '11', 'toughness': '2', 'multiverseid': 136279, 'colorIdentity': ['W']},),\n",
       " ({'id': 'e8b8dea65daf4e9070cce5de62bdbea0bf36d47c', 'cmc': 4, 'name': 'Cho-Manno, Revolutionary', 'text': 'Prevent all damage that would be dealt to Ch ... (361 characters truncated) ... geName': 'cho-manno, revolutionary', 'mciNumber': '12', 'toughness': '2', 'supertypes': ['Legendary'], 'multiverseid': 130554, 'colorIdentity': ['W']},),\n",
       " ({'id': '80a6b907fc380ed97615e8abc0fe6071c4ceef67', 'cmc': 3, 'name': 'Field Marshal', 'text': 'Other Soldier creatures get +1/+1 and have first strike ... (371 characters truncated) ... , 'subtypes': ['Human', 'Soldier'], 'imageName': 'field marshal', 'mciNumber': '15', 'toughness': '2', 'multiverseid': 135258, 'colorIdentity': ['W']},),\n",
       " ({'id': '7879b835a2c3d6516515d03bd3a3894dceee1812', 'cmc': 1, 'name': 'Honor Guard', 'text': '{W}: Honor Guard gets +0/+1 until end of turn.', 'type':  ... (239 characters truncated) ... }', 'subtypes': ['Human', 'Soldier'], 'imageName': 'honor guard', 'mciNumber': '23', 'toughness': '1', 'multiverseid': 129595, 'colorIdentity': ['W']},),\n",
       " ({'id': '55932565b6905650e67e784b7cf0df63990e9851', 'cmc': 1, 'name': 'Icatian Priest', 'text': '{1}{W}{W}: Target creature gets +1/+1 until end of tur ... (382 characters truncated) ... , 'subtypes': ['Human', 'Cleric'], 'imageName': 'icatian priest', 'mciNumber': '24', 'toughness': '1', 'multiverseid': 132123, 'colorIdentity': ['W']},),\n",
       " ({'id': 'bc1e197c295bc12cc1b392a11b94782f1396b263', 'cmc': 5, 'name': 'Kjeldoran Royal Guard', 'text': '{T}: All combat damage that would be dealt to y ... (409 characters truncated) ... pes': ['Human', 'Soldier'], 'imageName': 'kjeldoran royal guard', 'mciNumber': '25', 'toughness': '5', 'multiverseid': 130551, 'colorIdentity': ['W']},),\n",
       " ({'id': 'e25120395df829af067675f1582ae946543094e2', 'cmc': 1, 'name': 'Loyal Sentry', 'text': 'When Loyal Sentry blocks a creature, destroy that creatu ... (318 characters truncated) ... ', 'subtypes': ['Human', 'Soldier'], 'imageName': 'loyal sentry', 'mciNumber': '27', 'toughness': '1', 'multiverseid': 129798, 'colorIdentity': ['W']},),\n",
       " ({'id': 'f0bd8f9ffd23760499a421ca4cd2f211130542b8', 'cmc': 3, 'name': 'Nomad Mythmaker', 'text': '{W}, {T}: Put target Aura card from a graveyard onto  ... (412 characters truncated) ... s': ['Human', 'Nomad', 'Cleric'], 'imageName': 'nomad mythmaker', 'mciNumber': '30', 'toughness': '2', 'multiverseid': 130547, 'colorIdentity': ['W']},)]"
      ]
     },
     "execution_count": 75,
     "metadata": {},
     "output_type": "execute_result"
    }
   ],
   "source": [
    "%%sql\n",
    "DROP VIEW IF EXISTS humans;\n",
    "CREATE VIEW humans AS\n",
    "SELECT data FROM cards WHERE data -> 'subtypes' ? 'Human';\n",
    "\n",
    "SELECT * FROM humans LIMIT 10;"
   ]
  },
  {
   "cell_type": "markdown",
   "metadata": {},
   "source": [
    "### C. Group all the cards based on the colour. Aggregate them by counting the number of cards per colour."
   ]
  },
  {
   "cell_type": "code",
   "execution_count": 114,
   "metadata": {},
   "outputs": [
    {
     "name": "stdout",
     "output_type": "stream",
     "text": [
      "Done.\n",
      "Done.\n",
      "5 rows affected.\n"
     ]
    },
    {
     "data": {
      "text/html": [
       "<table>\n",
       "    <tr>\n",
       "        <th>color</th>\n",
       "        <th>count</th>\n",
       "    </tr>\n",
       "    <tr>\n",
       "        <td>Black</td>\n",
       "        <td>6067</td>\n",
       "    </tr>\n",
       "    <tr>\n",
       "        <td>Blue</td>\n",
       "        <td>5836</td>\n",
       "    </tr>\n",
       "    <tr>\n",
       "        <td>Green</td>\n",
       "        <td>6162</td>\n",
       "    </tr>\n",
       "    <tr>\n",
       "        <td>Red</td>\n",
       "        <td>6054</td>\n",
       "    </tr>\n",
       "    <tr>\n",
       "        <td>White</td>\n",
       "        <td>5920</td>\n",
       "    </tr>\n",
       "</table>"
      ],
      "text/plain": [
       "[('Black', 6067),\n",
       " ('Blue', 5836),\n",
       " ('Green', 6162),\n",
       " ('Red', 6054),\n",
       " ('White', 5920)]"
      ]
     },
     "execution_count": 114,
     "metadata": {},
     "output_type": "execute_result"
    }
   ],
   "source": [
    "%%sql\n",
    "DROP VIEW IF EXISTS color_count;\n",
    "CREATE VIEW color_count AS\n",
    "SELECT jsonb_array_elements(data -> 'colors') AS color, count(*) FROM cards GROUP BY color;\n",
    "\n",
    "SELECT * FROM color_count;"
   ]
  },
  {
   "cell_type": "code",
   "execution_count": 115,
   "metadata": {},
   "outputs": [
    {
     "name": "stdout",
     "output_type": "stream",
     "text": [
      "5 rows affected.\n"
     ]
    }
   ],
   "source": [
    "color_result = %sql SELECT * FROM color_count;"
   ]
  },
  {
   "cell_type": "code",
   "execution_count": 116,
   "metadata": {},
   "outputs": [
    {
     "data": {
      "image/png": "[encoded data removed]",
      "text/plain": [
       "<matplotlib.figure.Figure at 0x7f143fa53ef0>"
      ]
     },
     "metadata": {},
     "output_type": "display_data"
    }
   ],
   "source": [
    "color_df = pd.DataFrame(color_result, columns=['color', 'count']);\n",
    "color_df.plot.bar(x='color');"
   ]
  },
  {
   "cell_type": "code",
   "execution_count": 117,
   "metadata": {},
   "outputs": [
    {
     "name": "stdout",
     "output_type": "stream",
     "text": [
      "Done.\n",
      "Done.\n",
      "32 rows affected.\n"
     ]
    },
    {
     "data": {
      "text/html": [
       "<table>\n",
       "    <tr>\n",
       "        <th>colors</th>\n",
       "        <th>count</th>\n",
       "    </tr>\n",
       "    <tr>\n",
       "        <td>None</td>\n",
       "        <td>7391</td>\n",
       "    </tr>\n",
       "    <tr>\n",
       "        <td>[&#x27;White&#x27;, &#x27;Red&#x27;, &#x27;Green&#x27;]</td>\n",
       "        <td>54</td>\n",
       "    </tr>\n",
       "    <tr>\n",
       "        <td>[&#x27;Blue&#x27;, &#x27;Black&#x27;, &#x27;Green&#x27;]</td>\n",
       "        <td>24</td>\n",
       "    </tr>\n",
       "    <tr>\n",
       "        <td>[&#x27;White&#x27;, &#x27;Black&#x27;, &#x27;Green&#x27;]</td>\n",
       "        <td>28</td>\n",
       "    </tr>\n",
       "    <tr>\n",
       "        <td>[&#x27;White&#x27;, &#x27;Blue&#x27;, &#x27;Black&#x27;, &#x27;Red&#x27;, &#x27;Green&#x27;]</td>\n",
       "        <td>37</td>\n",
       "    </tr>\n",
       "    <tr>\n",
       "        <td>[&#x27;White&#x27;, &#x27;Black&#x27;, &#x27;Red&#x27;]</td>\n",
       "        <td>33</td>\n",
       "    </tr>\n",
       "    <tr>\n",
       "        <td>[&#x27;White&#x27;, &#x27;Blue&#x27;, &#x27;Red&#x27;]</td>\n",
       "        <td>22</td>\n",
       "    </tr>\n",
       "    <tr>\n",
       "        <td>[&#x27;Blue&#x27;, &#x27;Red&#x27;, &#x27;Green&#x27;]</td>\n",
       "        <td>25</td>\n",
       "    </tr>\n",
       "    <tr>\n",
       "        <td>[&#x27;Red&#x27;]</td>\n",
       "        <td>4858</td>\n",
       "    </tr>\n",
       "    <tr>\n",
       "        <td>[&#x27;White&#x27;, &#x27;Black&#x27;]</td>\n",
       "        <td>174</td>\n",
       "    </tr>\n",
       "    <tr>\n",
       "        <td>[&#x27;White&#x27;, &#x27;Blue&#x27;, &#x27;Green&#x27;]</td>\n",
       "        <td>53</td>\n",
       "    </tr>\n",
       "    <tr>\n",
       "        <td>[&#x27;Blue&#x27;, &#x27;Red&#x27;]</td>\n",
       "        <td>182</td>\n",
       "    </tr>\n",
       "    <tr>\n",
       "        <td>[&#x27;Green&#x27;]</td>\n",
       "        <td>4977</td>\n",
       "    </tr>\n",
       "    <tr>\n",
       "        <td>[&#x27;White&#x27;, &#x27;Red&#x27;]</td>\n",
       "        <td>178</td>\n",
       "    </tr>\n",
       "    <tr>\n",
       "        <td>[&#x27;White&#x27;, &#x27;Blue&#x27;, &#x27;Black&#x27;]</td>\n",
       "        <td>57</td>\n",
       "    </tr>\n",
       "    <tr>\n",
       "        <td>[&#x27;Blue&#x27;, &#x27;Black&#x27;, &#x27;Red&#x27;]</td>\n",
       "        <td>73</td>\n",
       "    </tr>\n",
       "    <tr>\n",
       "        <td>[&#x27;Blue&#x27;, &#x27;Black&#x27;]</td>\n",
       "        <td>260</td>\n",
       "    </tr>\n",
       "    <tr>\n",
       "        <td>[&#x27;White&#x27;, &#x27;Blue&#x27;, &#x27;Red&#x27;, &#x27;Green&#x27;]</td>\n",
       "        <td>2</td>\n",
       "    </tr>\n",
       "    <tr>\n",
       "        <td>[&#x27;Blue&#x27;]</td>\n",
       "        <td>4680</td>\n",
       "    </tr>\n",
       "    <tr>\n",
       "        <td>[&#x27;White&#x27;, &#x27;Black&#x27;, &#x27;Red&#x27;, &#x27;Green&#x27;]</td>\n",
       "        <td>2</td>\n",
       "    </tr>\n",
       "    <tr>\n",
       "        <td>[&#x27;White&#x27;, &#x27;Blue&#x27;, &#x27;Black&#x27;, &#x27;Green&#x27;]</td>\n",
       "        <td>2</td>\n",
       "    </tr>\n",
       "    <tr>\n",
       "        <td>[&#x27;Black&#x27;, &#x27;Red&#x27;, &#x27;Green&#x27;]</td>\n",
       "        <td>52</td>\n",
       "    </tr>\n",
       "    <tr>\n",
       "        <td>[&#x27;White&#x27;, &#x27;Blue&#x27;]</td>\n",
       "        <td>245</td>\n",
       "    </tr>\n",
       "    <tr>\n",
       "        <td>[&#x27;Red&#x27;, &#x27;Green&#x27;]</td>\n",
       "        <td>273</td>\n",
       "    </tr>\n",
       "    <tr>\n",
       "        <td>[&#x27;White&#x27;, &#x27;Green&#x27;]</td>\n",
       "        <td>276</td>\n",
       "    </tr>\n",
       "    <tr>\n",
       "        <td>[&#x27;Black&#x27;]</td>\n",
       "        <td>4877</td>\n",
       "    </tr>\n",
       "    <tr>\n",
       "        <td>[&#x27;White&#x27;]</td>\n",
       "        <td>4755</td>\n",
       "    </tr>\n",
       "    <tr>\n",
       "        <td>[&#x27;Black&#x27;, &#x27;Red&#x27;]</td>\n",
       "        <td>258</td>\n",
       "    </tr>\n",
       "    <tr>\n",
       "        <td>[&#x27;White&#x27;, &#x27;Blue&#x27;, &#x27;Black&#x27;, &#x27;Red&#x27;]</td>\n",
       "        <td>2</td>\n",
       "    </tr>\n",
       "    <tr>\n",
       "        <td>[&#x27;Black&#x27;, &#x27;Green&#x27;]</td>\n",
       "        <td>185</td>\n",
       "    </tr>\n",
       "    <tr>\n",
       "        <td>[&#x27;Blue&#x27;, &#x27;Black&#x27;, &#x27;Red&#x27;, &#x27;Green&#x27;]</td>\n",
       "        <td>3</td>\n",
       "    </tr>\n",
       "    <tr>\n",
       "        <td>[&#x27;Blue&#x27;, &#x27;Green&#x27;]</td>\n",
       "        <td>169</td>\n",
       "    </tr>\n",
       "</table>"
      ],
      "text/plain": [
       "[(None, 7391),\n",
       " (['White', 'Red', 'Green'], 54),\n",
       " (['Blue', 'Black', 'Green'], 24),\n",
       " (['White', 'Black', 'Green'], 28),\n",
       " (['White', 'Blue', 'Black', 'Red', 'Green'], 37),\n",
       " (['White', 'Black', 'Red'], 33),\n",
       " (['White', 'Blue', 'Red'], 22),\n",
       " (['Blue', 'Red', 'Green'], 25),\n",
       " (['Red'], 4858),\n",
       " (['White', 'Black'], 174),\n",
       " (['White', 'Blue', 'Green'], 53),\n",
       " (['Blue', 'Red'], 182),\n",
       " (['Green'], 4977),\n",
       " (['White', 'Red'], 178),\n",
       " (['White', 'Blue', 'Black'], 57),\n",
       " (['Blue', 'Black', 'Red'], 73),\n",
       " (['Blue', 'Black'], 260),\n",
       " (['White', 'Blue', 'Red', 'Green'], 2),\n",
       " (['Blue'], 4680),\n",
       " (['White', 'Black', 'Red', 'Green'], 2),\n",
       " (['White', 'Blue', 'Black', 'Green'], 2),\n",
       " (['Black', 'Red', 'Green'], 52),\n",
       " (['White', 'Blue'], 245),\n",
       " (['Red', 'Green'], 273),\n",
       " (['White', 'Green'], 276),\n",
       " (['Black'], 4877),\n",
       " (['White'], 4755),\n",
       " (['Black', 'Red'], 258),\n",
       " (['White', 'Blue', 'Black', 'Red'], 2),\n",
       " (['Black', 'Green'], 185),\n",
       " (['Blue', 'Black', 'Red', 'Green'], 3),\n",
       " (['Blue', 'Green'], 169)]"
      ]
     },
     "execution_count": 117,
     "metadata": {},
     "output_type": "execute_result"
    }
   ],
   "source": [
    "%%sql\n",
    "DROP VIEW IF EXISTS color_count_2;\n",
    "CREATE VIEW color_count_2 AS\n",
    "SELECT data -> 'colors' AS colors, count(*) FROM cards GROUP BY colors;\n",
    "\n",
    "SELECT * FROM color_count_2;"
   ]
  },
  {
   "cell_type": "code",
   "execution_count": 134,
   "metadata": {},
   "outputs": [
    {
     "name": "stdout",
     "output_type": "stream",
     "text": [
      "32 rows affected.\n"
     ]
    }
   ],
   "source": [
    "color_result_2 = %sql SELECT * FROM color_count_2;"
   ]
  },
  {
   "cell_type": "code",
   "execution_count": 136,
   "metadata": {},
   "outputs": [
    {
     "data": {
      "image/png": "[encoded data removed]",
      "text/plain": [
       "<matplotlib.figure.Figure at 0x7f1440af6390>"
      ]
     },
     "metadata": {},
     "output_type": "display_data"
    }
   ],
   "source": [
    "color_df_2 = pd.DataFrame(color_result_2, columns=['colors', 'count']);\n",
    "color_df_3.plot.bar(x='colors');"
   ]
  },
  {
   "cell_type": "markdown",
   "metadata": {},
   "source": [
    "Since it doesn't make much sense to make a histogram over the result, I've made a bar chart instead. I've made it for both the unique combination of colors, and over the individual colors. \n",
    "If you really want to see histograms, you can take a look below."
   ]
  },
  {
   "cell_type": "code",
   "execution_count": 137,
   "metadata": {},
   "outputs": [
    {
     "data": {
      "image/png": "[encoded data removed]",
      "text/plain": [
       "<matplotlib.figure.Figure at 0x7f1440b17358>"
      ]
     },
     "metadata": {},
     "output_type": "display_data"
    }
   ],
   "source": [
    "color_df_3 = pd.DataFrame(color_result_2, columns=['colors', 'count']);\n",
    "color_df_3.plot.hist(stacked=True, bins=32, alpha=0.5);"
   ]
  },
  {
   "cell_type": "code",
   "execution_count": 138,
   "metadata": {},
   "outputs": [
    {
     "data": {
      "image/png": "[encoded data removed]",
      "text/plain": [
       "<matplotlib.figure.Figure at 0x7f14402db0b8>"
      ]
     },
     "metadata": {},
     "output_type": "display_data"
    }
   ],
   "source": [
    "color_df.plot.hist(stacked=True, bins=5, alpha=0.5);"
   ]
  },
  {
   "cell_type": "code",
   "execution_count": null,
   "metadata": {},
   "outputs": [],
   "source": []
  }
 ],
 "metadata": {
  "kernelspec": {
   "display_name": "Python 3",
   "language": "python",
   "name": "python3"
  },
  "language_info": {
   "codemirror_mode": {
    "name": "ipython",
    "version": 3
   },
   "file_extension": ".py",
   "mimetype": "text/x-python",
   "name": "python",
   "nbconvert_exporter": "python",
   "pygments_lexer": "ipython3",
   "version": "3.6.3"
  }
 },
 "nbformat": 4,
 "nbformat_minor": 2
}
